{
 "cells": [
  {
   "cell_type": "markdown",
   "metadata": {},
   "source": [
    "# Early Stage Diabetes Risk Prediction Dataset - Kaggle"
   ]
  },
  {
   "cell_type": "code",
   "execution_count": 9,
   "metadata": {
    "scrolled": true
   },
   "outputs": [
    {
     "ename": "ModuleNotFoundError",
     "evalue": "No module named 'seaborn'",
     "output_type": "error",
     "traceback": [
      "\u001b[1;31m---------------------------------------------------------------------------\u001b[0m",
      "\u001b[1;31mModuleNotFoundError\u001b[0m                       Traceback (most recent call last)",
      "\u001b[1;32m<ipython-input-9-2411872e593a>\u001b[0m in \u001b[0;36m<module>\u001b[1;34m\u001b[0m\n\u001b[0;32m      8\u001b[0m \u001b[1;31m# !pip3 install seaborn\u001b[0m\u001b[1;33m\u001b[0m\u001b[1;33m\u001b[0m\u001b[1;33m\u001b[0m\u001b[0m\n\u001b[0;32m      9\u001b[0m \u001b[1;31m# !conda install seaborn\u001b[0m\u001b[1;33m\u001b[0m\u001b[1;33m\u001b[0m\u001b[1;33m\u001b[0m\u001b[0m\n\u001b[1;32m---> 10\u001b[1;33m \u001b[1;32mimport\u001b[0m \u001b[0mseaborn\u001b[0m \u001b[1;32mas\u001b[0m \u001b[0msns\u001b[0m\u001b[1;33m\u001b[0m\u001b[1;33m\u001b[0m\u001b[0m\n\u001b[0m",
      "\u001b[1;31mModuleNotFoundError\u001b[0m: No module named 'seaborn'"
     ]
    }
   ],
   "source": [
    "import numpy as np\n",
    "import pandas as pd\n",
    "from sklearn.metrics import accuracy_score\n",
    "from sklearn.model_selection import train_test_split\n",
    "from sklearn.preprocessing import StandardScaler\n",
    "scaler = StandardScaler()\n",
    "from sklearn.linear_model import LogisticRegression"
   ]
  },
  {
   "cell_type": "code",
   "execution_count": 1,
   "metadata": {},
   "outputs": [
    {
     "ename": "ModuleNotFoundError",
     "evalue": "No module named 'seaborn'",
     "output_type": "error",
     "traceback": [
      "\u001b[1;31m---------------------------------------------------------------------------\u001b[0m",
      "\u001b[1;31mModuleNotFoundError\u001b[0m                       Traceback (most recent call last)",
      "\u001b[1;32m<ipython-input-1-a84c0541e888>\u001b[0m in \u001b[0;36m<module>\u001b[1;34m\u001b[0m\n\u001b[1;32m----> 1\u001b[1;33m \u001b[1;32mimport\u001b[0m \u001b[0mseaborn\u001b[0m \u001b[1;32mas\u001b[0m \u001b[0msns\u001b[0m\u001b[1;33m\u001b[0m\u001b[1;33m\u001b[0m\u001b[0m\n\u001b[0m",
      "\u001b[1;31mModuleNotFoundError\u001b[0m: No module named 'seaborn'"
     ]
    }
   ],
   "source": [
    "import seaborn as sns"
   ]
  },
  {
   "cell_type": "code",
   "execution_count": 8,
   "metadata": {},
   "outputs": [],
   "source": [
    "df = pd.read_csv(\"diabetes_data.csv\")\n",
    "df[[\"Age\"]] = scaler.fit_transform(df[[\"Age\"]])"
   ]
  },
  {
   "cell_type": "code",
   "execution_count": null,
   "metadata": {},
   "outputs": [],
   "source": [
    "df.head()"
   ]
  },
  {
   "cell_type": "code",
   "execution_count": 82,
   "metadata": {},
   "outputs": [],
   "source": [
    "df[\"Gender\"].replace([\"Male\",\"Female\"],[1,0],inplace = True)\n",
    "columns = df.columns.drop([\"Age\",\"class\",\"Gender\"])\n",
    "df[columns] = df[columns].replace([\"Yes\",\"No\"],[1,0])"
   ]
  },
  {
   "cell_type": "code",
   "execution_count": 84,
   "metadata": {},
   "outputs": [],
   "source": [
    "X = df.drop(columns = [\"class\"],axis = 1)\n",
    "Y = df[\"class\"]"
   ]
  },
  {
   "cell_type": "code",
   "execution_count": 94,
   "metadata": {},
   "outputs": [
    {
     "name": "stdout",
     "output_type": "stream",
     "text": [
      "                         Age    Gender  Polyuria  Polydipsia  \\\n",
      "Age                 1.000000  0.062872  0.199781    0.137382   \n",
      "Gender              0.062872  1.000000 -0.268894   -0.312262   \n",
      "Polyuria            0.199781 -0.268894  1.000000    0.598609   \n",
      "Polydipsia          0.137382 -0.312262  0.598609    1.000000   \n",
      "sudden weight loss  0.064808 -0.281840  0.447207    0.405965   \n",
      "weakness            0.224596 -0.124490  0.263000    0.332453   \n",
      "Polyphagia          0.315577 -0.219968  0.373873    0.316839   \n",
      "Genital thrush      0.096519  0.208961  0.087273    0.028081   \n",
      "visual blurring     0.402729 -0.208092  0.235095    0.331250   \n",
      "Itching             0.296559 -0.052496  0.088289    0.128716   \n",
      "Irritability        0.201625 -0.013735  0.237740    0.203446   \n",
      "delayed healing     0.257501 -0.101978  0.149873    0.115691   \n",
      "partial paresis     0.232742 -0.332288  0.441664    0.442249   \n",
      "muscle stiffness    0.307703 -0.090542  0.152938    0.180723   \n",
      "Alopecia            0.321691  0.327871 -0.144192   -0.310964   \n",
      "Obesity             0.140458 -0.005396  0.126567    0.098691   \n",
      "\n",
      "                    sudden weight loss  weakness  Polyphagia  Genital thrush  \\\n",
      "Age                           0.064808  0.224596    0.315577        0.096519   \n",
      "Gender                       -0.281840 -0.124490   -0.219968        0.208961   \n",
      "Polyuria                      0.447207  0.263000    0.373873        0.087273   \n",
      "Polydipsia                    0.405965  0.332453    0.316839        0.028081   \n",
      "sudden weight loss            1.000000  0.282884    0.243511        0.089858   \n",
      "weakness                      0.282884  1.000000    0.180266        0.027780   \n",
      "Polyphagia                    0.243511  0.180266    1.000000       -0.063712   \n",
      "Genital thrush                0.089858  0.027780   -0.063712        1.000000   \n",
      "visual blurring               0.068754  0.301043    0.293545       -0.148408   \n",
      "Itching                      -0.004516  0.309440    0.144390        0.125336   \n",
      "Irritability                  0.140340  0.146698    0.239466        0.160551   \n",
      "delayed healing               0.088140  0.335507    0.263980        0.136111   \n",
      "partial paresis               0.264014  0.272982    0.373569       -0.195612   \n",
      "muscle stiffness              0.109756  0.263164    0.320031       -0.100188   \n",
      "Alopecia                     -0.202727  0.090490   -0.053498        0.204847   \n",
      "Obesity                       0.169294  0.045665    0.029785        0.053828   \n",
      "\n",
      "                    visual blurring   Itching  Irritability  delayed healing  \\\n",
      "Age                        0.402729  0.296559      0.201625         0.257501   \n",
      "Gender                    -0.208092 -0.052496     -0.013735        -0.101978   \n",
      "Polyuria                   0.235095  0.088289      0.237740         0.149873   \n",
      "Polydipsia                 0.331250  0.128716      0.203446         0.115691   \n",
      "sudden weight loss         0.068754 -0.004516      0.140340         0.088140   \n",
      "weakness                   0.301043  0.309440      0.146698         0.335507   \n",
      "Polyphagia                 0.293545  0.144390      0.239466         0.263980   \n",
      "Genital thrush            -0.148408  0.125336      0.160551         0.136111   \n",
      "visual blurring            1.000000  0.291191      0.077095         0.177767   \n",
      "Itching                    0.291191  1.000000      0.114006         0.453316   \n",
      "Irritability               0.077095  0.114006      1.000000         0.126877   \n",
      "delayed healing            0.177767  0.453316      0.126877         1.000000   \n",
      "partial paresis            0.364156  0.116669      0.151571         0.187382   \n",
      "muscle stiffness           0.412369  0.215575      0.201637         0.250078   \n",
      "Alopecia                   0.014604  0.266506      0.043708         0.290179   \n",
      "Obesity                    0.109005  0.001894      0.127801        -0.066339   \n",
      "\n",
      "                    partial paresis  muscle stiffness  Alopecia   Obesity  \n",
      "Age                        0.232742          0.307703  0.321691  0.140458  \n",
      "Gender                    -0.332288         -0.090542  0.327871 -0.005396  \n",
      "Polyuria                   0.441664          0.152938 -0.144192  0.126567  \n",
      "Polydipsia                 0.442249          0.180723 -0.310964  0.098691  \n",
      "sudden weight loss         0.264014          0.109756 -0.202727  0.169294  \n",
      "weakness                   0.272982          0.263164  0.090490  0.045665  \n",
      "Polyphagia                 0.373569          0.320031 -0.053498  0.029785  \n",
      "Genital thrush            -0.195612         -0.100188  0.204847  0.053828  \n",
      "visual blurring            0.364156          0.412369  0.014604  0.109005  \n",
      "Itching                    0.116669          0.215575  0.266506  0.001894  \n",
      "Irritability               0.151571          0.201637  0.043708  0.127801  \n",
      "delayed healing            0.187382          0.250078  0.290179 -0.066339  \n",
      "partial paresis            1.000000          0.232634 -0.221576 -0.009401  \n",
      "muscle stiffness           0.232634          1.000000  0.040758  0.158910  \n",
      "Alopecia                  -0.221576          0.040758  1.000000  0.029229  \n",
      "Obesity                   -0.009401          0.158910  0.029229  1.000000  \n"
     ]
    },
    {
     "ename": "NameError",
     "evalue": "name 'sb' is not defined",
     "output_type": "error",
     "traceback": [
      "\u001b[1;31m---------------------------------------------------------------------------\u001b[0m",
      "\u001b[1;31mNameError\u001b[0m                                 Traceback (most recent call last)",
      "\u001b[1;32m<ipython-input-94-1242f4997574>\u001b[0m in \u001b[0;36m<module>\u001b[1;34m\u001b[0m\n\u001b[0;32m      2\u001b[0m \u001b[1;33m\u001b[0m\u001b[0m\n\u001b[0;32m      3\u001b[0m \u001b[1;31m# plotting correlation heatmap\u001b[0m\u001b[1;33m\u001b[0m\u001b[1;33m\u001b[0m\u001b[1;33m\u001b[0m\u001b[0m\n\u001b[1;32m----> 4\u001b[1;33m \u001b[0mdfplot\u001b[0m \u001b[1;33m=\u001b[0m \u001b[0msb\u001b[0m\u001b[1;33m.\u001b[0m\u001b[0mheatmap\u001b[0m\u001b[1;33m(\u001b[0m\u001b[0mdf\u001b[0m\u001b[1;33m.\u001b[0m\u001b[0mcorr\u001b[0m\u001b[1;33m(\u001b[0m\u001b[1;33m)\u001b[0m\u001b[1;33m,\u001b[0m \u001b[0mcmap\u001b[0m\u001b[1;33m=\u001b[0m\u001b[1;34m\"YlGnBu\"\u001b[0m\u001b[1;33m,\u001b[0m \u001b[0mannot\u001b[0m\u001b[1;33m=\u001b[0m\u001b[1;32mTrue\u001b[0m\u001b[1;33m)\u001b[0m\u001b[1;33m\u001b[0m\u001b[1;33m\u001b[0m\u001b[0m\n\u001b[0m\u001b[0;32m      5\u001b[0m \u001b[1;33m\u001b[0m\u001b[0m\n\u001b[0;32m      6\u001b[0m \u001b[1;31m# displaying heatmap\u001b[0m\u001b[1;33m\u001b[0m\u001b[1;33m\u001b[0m\u001b[1;33m\u001b[0m\u001b[0m\n",
      "\u001b[1;31mNameError\u001b[0m: name 'sb' is not defined"
     ]
    }
   ],
   "source": [
    "print(df.corr())\n",
    "  \n",
    "# plotting correlation heatmap\n",
    "dfplot = sns.heatmap(df.corr(), cmap=\"YlGnBu\", annot=True)\n",
    "  \n",
    "# displaying heatmap\n",
    "# mp.show()"
   ]
  },
  {
   "cell_type": "markdown",
   "metadata": {},
   "source": [
    "## Model Training"
   ]
  },
  {
   "cell_type": "code",
   "execution_count": 85,
   "metadata": {},
   "outputs": [],
   "source": [
    "X_train,X_test,Y_train,Y_test = train_test_split(X,Y,test_size = 0.3, stratify = Y,random_state = 0)"
   ]
  },
  {
   "cell_type": "code",
   "execution_count": 87,
   "metadata": {},
   "outputs": [],
   "source": [
    "model = LogisticRegression()"
   ]
  },
  {
   "cell_type": "code",
   "execution_count": 88,
   "metadata": {},
   "outputs": [
    {
     "data": {
      "text/plain": [
       "LogisticRegression()"
      ]
     },
     "execution_count": 88,
     "metadata": {},
     "output_type": "execute_result"
    }
   ],
   "source": [
    "model.fit(X_train,Y_train)"
   ]
  },
  {
   "cell_type": "code",
   "execution_count": 92,
   "metadata": {},
   "outputs": [
    {
     "name": "stdout",
     "output_type": "stream",
     "text": [
      "Training Prediction Accuracy: 0.9423076923076923\n"
     ]
    }
   ],
   "source": [
    "training_input_prediction = model.predict(X_train)\n",
    "training_prediction_accuracy = accuracy_score(training_input_prediction,Y_train)\n",
    "print(\"Training Prediction Accuracy:\", training_prediction_accuracy)"
   ]
  },
  {
   "cell_type": "code",
   "execution_count": 93,
   "metadata": {},
   "outputs": [
    {
     "name": "stdout",
     "output_type": "stream",
     "text": [
      "Testing Prediction Accuracy: 0.9358974358974359\n"
     ]
    }
   ],
   "source": [
    "testing_input_prediction = model.predict(X_test)\n",
    "testing_prediction_accuracy = accuracy_score(testing_input_prediction,Y_test)\n",
    "print(\"Testing Prediction Accuracy:\", testing_prediction_accuracy)"
   ]
  },
  {
   "cell_type": "code",
   "execution_count": 91,
   "metadata": {},
   "outputs": [
    {
     "name": "stdout",
     "output_type": "stream",
     "text": [
      "Training Prediction Accuracy: 0.9423076923076923\n"
     ]
    }
   ],
   "source": []
  },
  {
   "cell_type": "code",
   "execution_count": null,
   "metadata": {},
   "outputs": [],
   "source": []
  }
 ],
 "metadata": {
  "kernelspec": {
   "display_name": "Python 3",
   "language": "python",
   "name": "python3"
  },
  "language_info": {
   "codemirror_mode": {
    "name": "ipython",
    "version": 3
   },
   "file_extension": ".py",
   "mimetype": "text/x-python",
   "name": "python",
   "nbconvert_exporter": "python",
   "pygments_lexer": "ipython3",
   "version": "3.8.5"
  }
 },
 "nbformat": 4,
 "nbformat_minor": 4
}
