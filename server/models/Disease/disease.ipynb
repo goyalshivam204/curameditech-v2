{
 "cells": [
  {
   "cell_type": "markdown",
   "metadata": {},
   "source": [
    "# Disease Prediction on basis of symptoms"
   ]
  },
  {
   "attachments": {},
   "cell_type": "markdown",
   "metadata": {},
   "source": [
    "### [Kaggle Dataset](https://www.kaggle.com/datasets/neelima98/disease-prediction-using-machine-learning)"
   ]
  },
  {
   "attachments": {},
   "cell_type": "markdown",
   "metadata": {},
   "source": [
    "### Importing required dependencies"
   ]
  },
  {
   "cell_type": "code",
   "execution_count": 39,
   "metadata": {},
   "outputs": [],
   "source": [
    "import numpy as np\n",
    "import pandas as pd\n",
    "import pickle\n",
    "from sklearn.model_selection import train_test_split\n",
    "from sklearn.metrics import accuracy_score\n",
    "from sklearn.preprocessing import StandardScaler\n",
    "from sklearn.linear_model import LogisticRegression\n",
    "from sklearn.tree import DecisionTreeClassifier\n",
    "from sklearn.naive_bayes import MultinomialNB\n",
    "import seaborn as sns\n",
    "import matplotlib.pyplot as plt\n",
    "import random"
   ]
  },
  {
   "cell_type": "markdown",
   "metadata": {},
   "source": [
    "### Reading dataset file\n"
   ]
  },
  {
   "cell_type": "code",
   "execution_count": 40,
   "metadata": {},
   "outputs": [],
   "source": [
    "df = pd.read_csv(\"symptoms data.csv\")"
   ]
  },
  {
   "cell_type": "markdown",
   "metadata": {},
   "source": [
    "### Looking at dataset to assess the fields which need to be preprocessed\n"
   ]
  },
  {
   "cell_type": "code",
   "execution_count": 41,
   "metadata": {},
   "outputs": [],
   "source": [
    "# df.head()"
   ]
  },
  {
   "cell_type": "code",
   "execution_count": 42,
   "metadata": {},
   "outputs": [],
   "source": [
    "# df.describe()"
   ]
  },
  {
   "cell_type": "code",
   "execution_count": 43,
   "metadata": {},
   "outputs": [],
   "source": [
    "# plt.subplots(figsize=(100,100))\n",
    "# sns.heatmap(df.corr())"
   ]
  },
  {
   "cell_type": "code",
   "execution_count": 44,
   "metadata": {},
   "outputs": [],
   "source": [
    "X = df.drop(columns=[\"prognosis\"],axis=1)\n",
    "Y = df[\"prognosis\"]\n",
    "# len(Y.value_counts())"
   ]
  },
  {
   "cell_type": "code",
   "execution_count": 45,
   "metadata": {},
   "outputs": [],
   "source": [
    "X_train,X_test,Y_train,Y_test = train_test_split(X,Y,test_size = 0.1,random_state=109)"
   ]
  },
  {
   "cell_type": "code",
   "execution_count": 46,
   "metadata": {},
   "outputs": [
    {
     "data": {
      "text/plain": [
       "LogisticRegression(multi_class='multinomial')"
      ]
     },
     "execution_count": 46,
     "metadata": {},
     "output_type": "execute_result"
    }
   ],
   "source": [
    "lr = LogisticRegression(multi_class='multinomial')\n",
    "lr.fit(X_train,Y_train)"
   ]
  },
  {
   "cell_type": "code",
   "execution_count": null,
   "metadata": {},
   "outputs": [],
   "source": []
  },
  {
   "cell_type": "code",
   "execution_count": 47,
   "metadata": {},
   "outputs": [],
   "source": [
    "# Y_predict = lr.predict_proba(X_test)\n",
    "# Y_predict\n",
    "# Y_predict[0][::-1].sort()\n",
    "\n",
    "\n",
    "def topProbs(probs):\n",
    "    labels = lr.classes_\n",
    "    probs_class = [0]*len(labels)\n",
    "    for i in range(0,len(labels)):\n",
    "        probs_class[i] = (probs[i],labels[i])\n",
    "\n",
    "    return sorted(probs_class)[:-4:-1];\n",
    "\n",
    "# for i in range(0,Y_predict.shape[0]):\n",
    "#     print(topProbs(Y_predict[i]))"
   ]
  },
  {
   "cell_type": "code",
   "execution_count": 48,
   "metadata": {},
   "outputs": [],
   "source": [
    "# score = accuracy_score(Y_predict,Y_test)\n",
    "# print(\"Accuracy Score:\",score)"
   ]
  },
  {
   "cell_type": "code",
   "execution_count": null,
   "metadata": {},
   "outputs": [],
   "source": []
  },
  {
   "attachments": {},
   "cell_type": "markdown",
   "metadata": {},
   "source": [
    "# Naive Bayes"
   ]
  },
  {
   "cell_type": "code",
   "execution_count": 49,
   "metadata": {},
   "outputs": [],
   "source": [
    "mnb = MultinomialNB()\n",
    "mnb.fit(X_train,Y_train)\n",
    "# mnb.feature_names_ = X_train.columns"
   ]
  },
  {
   "cell_type": "code",
   "execution_count": 50,
   "metadata": {},
   "outputs": [],
   "source": [
    "# Y_predict = mnb.predict_proba(X_test)"
   ]
  },
  {
   "attachments": {},
   "cell_type": "markdown",
   "metadata": {},
   "source": [
    "# SVM"
   ]
  },
  {
   "cell_type": "code",
   "execution_count": null,
   "metadata": {},
   "outputs": [],
   "source": []
  },
  {
   "attachments": {},
   "cell_type": "markdown",
   "metadata": {},
   "source": [
    "# Testing random input on data"
   ]
  },
  {
   "cell_type": "code",
   "execution_count": 51,
   "metadata": {},
   "outputs": [],
   "source": [
    "input_arr = [0]*len(X_test.columns)\n",
    "for i in range(0,5):\n",
    "    index = random.randint(0,len(input_arr)-1)\n",
    "    input_arr[index] = 1\n",
    "input = np.asarray(input_arr).reshape(1,-1)"
   ]
  },
  {
   "cell_type": "code",
   "execution_count": 52,
   "metadata": {},
   "outputs": [
    {
     "name": "stdout",
     "output_type": "stream",
     "text": [
      "---------LR Model-------\n"
     ]
    },
    {
     "name": "stderr",
     "output_type": "stream",
     "text": [
      "c:\\Users\\shiva\\.conda\\envs\\machine_learning\\lib\\site-packages\\sklearn\\base.py:450: UserWarning: X does not have valid feature names, but LogisticRegression was fitted with feature names\n",
      "  warnings.warn(\n"
     ]
    },
    {
     "data": {
      "text/plain": [
       "[(0.22424083584438623, 'Urinary tract infection'),\n",
       " (0.21079893654706064, 'Allergy'),\n",
       " (0.10053824985563353, 'Hepatitis C')]"
      ]
     },
     "execution_count": 52,
     "metadata": {},
     "output_type": "execute_result"
    }
   ],
   "source": [
    "print(\"---------LR Model-------\")\n",
    "probs = lr.predict_proba(input)[0]\n",
    "topProbs(probs)"
   ]
  },
  {
   "cell_type": "code",
   "execution_count": 53,
   "metadata": {},
   "outputs": [
    {
     "name": "stdout",
     "output_type": "stream",
     "text": [
      "---------MNB Model-------\n"
     ]
    },
    {
     "name": "stderr",
     "output_type": "stream",
     "text": [
      "c:\\Users\\shiva\\.conda\\envs\\machine_learning\\lib\\site-packages\\sklearn\\base.py:450: UserWarning: X does not have valid feature names, but MultinomialNB was fitted with feature names\n",
      "  warnings.warn(\n"
     ]
    },
    {
     "data": {
      "text/plain": [
       "[(0.3926396125639643, 'Allergy'),\n",
       " (0.36431088786237786, 'Urinary tract infection'),\n",
       " (0.07615456404827833, 'Bronchial Asthma')]"
      ]
     },
     "execution_count": 53,
     "metadata": {},
     "output_type": "execute_result"
    }
   ],
   "source": [
    "print(\"---------MNB Model-------\")\n",
    "probs = mnb.predict_proba(input)[0]\n",
    "topProbs(probs)"
   ]
  },
  {
   "cell_type": "code",
   "execution_count": 56,
   "metadata": {},
   "outputs": [
    {
     "data": {
      "text/plain": [
       "array(['itching', 'skin_rash', 'nodal_skin_eruptions',\n",
       "       'continuous_sneezing', 'shivering', 'chills', 'joint_pain',\n",
       "       'stomach_pain', 'acidity', 'ulcers_on_tongue', 'muscle_wasting',\n",
       "       'vomiting', 'burning_micturition', 'spotting_urination', 'fatigue',\n",
       "       'weight_gain', 'anxiety', 'cold_hands_and_feets', 'mood_swings',\n",
       "       'weight_loss', 'restlessness', 'lethargy', 'patches_in_throat',\n",
       "       'irregular_sugar_level', 'cough', 'high_fever', 'sunken_eyes',\n",
       "       'breathlessness', 'sweating', 'dehydration', 'indigestion',\n",
       "       'headache', 'yellowish_skin', 'dark_urine', 'nausea',\n",
       "       'loss_of_appetite', 'pain_behind_the_eyes', 'back_pain',\n",
       "       'constipation', 'abdominal_pain', 'diarrhea', 'mild_fever',\n",
       "       'yellow_urine', 'yellowing_of_eyes', 'acute_liver_failure',\n",
       "       'fluid_overload', 'swelling_of_stomach', 'swelled_lymph_nodes',\n",
       "       'malaise', 'blurred_and_distorted_vision', 'phlegm',\n",
       "       'throat_irritation', 'redness_of_eyes', 'sinus_pressure',\n",
       "       'runny_nose', 'congestion', 'chest_pain', 'weakness_in_limbs',\n",
       "       'fast_heart_rate', 'pain_during_bowel_movements',\n",
       "       'pain_in_anal_region', 'bloody_stool', 'irritation_in_anus',\n",
       "       'neck_pain', 'dizziness', 'cramps', 'bruising', 'obesity',\n",
       "       'swollen_legs', 'swollen_blood_vessels', 'puffy_face_and_eyes',\n",
       "       'enlarged_thyroid', 'brittle_nails', 'swollen_extremeties',\n",
       "       'excessive_hunger', 'extra_marital_contacts',\n",
       "       'drying_and_tingling_lips', 'slurred_speech', 'knee_pain',\n",
       "       'hip_joint_pain', 'muscle_weakness', 'stiff_neck',\n",
       "       'swelling_joints', 'movement_stiffness', 'spinning_movements',\n",
       "       'loss_of_balance', 'unsteadiness', 'weakness_of_one_body_side',\n",
       "       'loss_of_smell', 'bladder_discomfort', 'foul_smell_of_urine',\n",
       "       'continuous_feel_of_urine', 'passage_of_gases', 'internal_itching',\n",
       "       'toxic_look_typhos', 'depression', 'irritability', 'muscle_pain',\n",
       "       'altered_sensorium', 'red_spots_over_body', 'belly_pain',\n",
       "       'abnormal_menstruation', 'dischromic_patches',\n",
       "       'watering_from_eyes', 'increased_appetite', 'polyuria',\n",
       "       'family_history', 'mucoid_sputum', 'rusty_sputum',\n",
       "       'lack_of_concentration', 'visual_disturbances',\n",
       "       'receiving_blood_transfusion', 'receiving_unsterile_injections',\n",
       "       'coma', 'stomach_bleeding', 'distention_of_abdomen',\n",
       "       'history_of_alcohol_consumption', 'fluid_overload.1',\n",
       "       'blood_in_sputum', 'prominent_veins_on_calf', 'palpitations',\n",
       "       'painful_walking', 'pus_filled_pimples', 'blackheads', 'scurring',\n",
       "       'skin_peeling', 'silver_like_dusting', 'small_dents_in_nails',\n",
       "       'inflammatory_nails', 'blister', 'red_sore_around_nose',\n",
       "       'yellow_crust_ooze'], dtype=object)"
      ]
     },
     "execution_count": 56,
     "metadata": {},
     "output_type": "execute_result"
    }
   ],
   "source": [
    "mnb.feature_names_in_"
   ]
  },
  {
   "cell_type": "code",
   "execution_count": 57,
   "metadata": {},
   "outputs": [],
   "source": [
    "### Saving MNB model\n",
    "pickle.dump(mnb,open(\"disease_mnb.sav\",\"wb\"))"
   ]
  },
  {
   "cell_type": "code",
   "execution_count": null,
   "metadata": {},
   "outputs": [],
   "source": []
  }
 ],
 "metadata": {
  "kernelspec": {
   "display_name": "machine_learning",
   "language": "python",
   "name": "python3"
  },
  "language_info": {
   "codemirror_mode": {
    "name": "ipython",
    "version": 3
   },
   "file_extension": ".py",
   "mimetype": "text/x-python",
   "name": "python",
   "nbconvert_exporter": "python",
   "pygments_lexer": "ipython3",
   "version": "3.9.13"
  },
  "orig_nbformat": 4,
  "vscode": {
   "interpreter": {
    "hash": "fe893ff91079ba710a1c488e56035fb1ddd6959f7e36b1de88830757c4278018"
   }
  }
 },
 "nbformat": 4,
 "nbformat_minor": 2
}
